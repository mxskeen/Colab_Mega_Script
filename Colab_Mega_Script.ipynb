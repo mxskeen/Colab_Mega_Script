{
  "nbformat": 4,
  "nbformat_minor": 0,
  "metadata": {
    "colab": {
      "provenance": [],
      "authorship_tag": "ABX9TyP2dTqE4eq4D/Zo7+PXaGQJ",
      "include_colab_link": true
    },
    "kernelspec": {
      "name": "python3",
      "display_name": "Python 3"
    },
    "language_info": {
      "name": "python"
    }
  },
  "cells": [
    {
      "cell_type": "markdown",
      "metadata": {
        "id": "view-in-github",
        "colab_type": "text"
      },
      "source": [
        "<a href=\"https://colab.research.google.com/github/mxskeen/Colab_Mega_Script/blob/main/Colab_Mega_Script.ipynb\" target=\"_parent\"><img src=\"https://colab.research.google.com/assets/colab-badge.svg\" alt=\"Open In Colab\"/></a>"
      ]
    },
    {
      "cell_type": "markdown",
      "source": [
        "Colab Python Script For Uploading Files To Your Personal MEGA.nz account.\n",
        "\n",
        "\n",
        "Just enter your mega credentials and file download link and rest everything will be handled."
      ],
      "metadata": {
        "id": "E0Eto96nY0gw"
      }
    },
    {
      "cell_type": "code",
      "execution_count": null,
      "metadata": {
        "id": "yo2pGLIHXKiC"
      },
      "outputs": [],
      "source": [
        "!pip install mega.py\n"
      ]
    },
    {
      "cell_type": "code",
      "source": [
        "from mega import Mega\n",
        "import requests\n",
        "from concurrent.futures import ThreadPoolExecutor\n",
        "\n",
        "# Mega login\n",
        "mega = Mega()\n",
        "m = mega.login('YOUR_MEGA_EMAIL', 'YOUR_MEGA_PASSWORD')\n",
        "\n",
        "# List of direct download links\n",
        "direct_download_links = [\n",
        "    'DIRECT_DOWNLOAD_LINK_1',\n",
        "    'DIRECT_DOWNLOAD_LINK_2',\n",
        "    # Add more links as needed in the above format 'url_1',\n",
        "    #                                               'url_2',\n",
        "]\n",
        "\n",
        "def download_and_upload(link):\n",
        "    # Download the file\n",
        "    response = requests.get(link)\n",
        "    file_name = link.split('/')[-1]\n",
        "    with open(file_name, 'wb') as f:\n",
        "        f.write(response.content)\n",
        "\n",
        "    # Upload the file to Mega\n",
        "    m.upload(file_name)\n",
        "    print(f\"Uploaded {file_name} to Mega.\")\n",
        "\n",
        "# Use ThreadPoolExecutor for parallel execution\n",
        "with ThreadPoolExecutor() as executor:\n",
        "    executor.map(download_and_upload, direct_download_links)\n"
      ],
      "metadata": {
        "id": "6dwxJjCIXn13"
      },
      "execution_count": null,
      "outputs": []
    },
    {
      "cell_type": "markdown",
      "source": [
        "contact me / create a request on github for any issue [Github](https://github.com/mxskeen/Colab_Mega_Script)\n",
        "\n",
        "Thanks :)"
      ],
      "metadata": {
        "id": "xQwD27RyYmYS"
      }
    },
    {
      "cell_type": "code",
      "source": [],
      "metadata": {
        "id": "mq2ComFIYuj2"
      },
      "execution_count": null,
      "outputs": []
    }
  ]
}
